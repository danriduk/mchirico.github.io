{
 "cells": [
  {
   "cell_type": "code",
   "execution_count": 1,
   "metadata": {
    "collapsed": false
   },
   "outputs": [
    {
     "name": "stdout",
     "output_type": "stream",
     "text": [
      "(8.4, 5, [4, 4.4])\n"
     ]
    }
   ],
   "source": [
    "def knapSack(W, wt, val):\n",
    "    \n",
    "    # Simple Checks\n",
    "    if [i for i in wt if i <= 0] != []:\n",
    "        #print(\"Weights must be >= 0\")\n",
    "        return False\n",
    "    if len(wt) != len(val) and len(val) >0 :\n",
    "        print(\"len(wt) != len(val) or len == 0\")\n",
    "        return False\n",
    "        \n",
    "    n = len(val)\n",
    "    K = [[0 for x in range(W+1)] for x in range(n+1)]\n",
    "    V = [[0 for x in range(W+1)] for x in range(n+1)]\n",
    "    \n",
    " \n",
    "    # Build table K[][] in bottom up manner\n",
    "    for i in range(n+1):\n",
    "        for w in range(W+1):\n",
    "            if i==0 or w==0:\n",
    "                K[i][w] = 0\n",
    "            elif wt[i-1] <= w:\n",
    "                if val[i-1] + K[i-1][w-wt[i-1]] > K[i-1][w]:\n",
    "                    V[i][w]=val[i-1] \n",
    "\n",
    "                K[i][w] = max(val[i-1] + K[i-1][w-wt[i-1]],  K[i-1][w])\n",
    "            else:\n",
    "                K[i][w] = K[i-1][w]\n",
    "                \n",
    "                \n",
    "    # Gets the items in our list\n",
    "    \n",
    "    def minInList(target):\n",
    "        return min([ wt[j] for j in [o for o, x in enumerate(val) if x == target ]])\n",
    "    \n",
    "    \n",
    "    ans=[]\n",
    "    N = W\n",
    "    for i in range(-1,-(len(V)),-1):\n",
    "        if N > 0 and V[i][N] > 0:\n",
    "            ans.append(V[i][N])\n",
    "            N = N - minInList(V[i][N])\n",
    "\n",
    "    sum_weight=sum([minInList(i) for i in  ans] )\n",
    "    \n",
    "    return (K[n][W],sum_weight,ans)\n",
    "\n",
    "\n",
    "# Driver program to test above function\n",
    "val = [4.4,3,4]\n",
    "wt = [4,2,1]\n",
    "W = 5\n",
    "print(knapSack(W, wt, val))\n",
    " \n",
    "# This will return \n",
    "#  (18, 7, [4, 4, 3, 2, 5])\n",
    "#\n",
    "#  Where 18 is the cumulative value\n",
    "#        7 is the total weight actually obtained\n",
    "#        [4, 4, 3, 2, 5]  Are the value items chosen\n",
    "# "
   ]
  }
 ],
 "metadata": {
  "kernelspec": {
   "display_name": "Python [default]",
   "language": "python",
   "name": "python3"
  },
  "language_info": {
   "codemirror_mode": {
    "name": "ipython",
    "version": 3
   },
   "file_extension": ".py",
   "mimetype": "text/x-python",
   "name": "python",
   "nbconvert_exporter": "python",
   "pygments_lexer": "ipython3",
   "version": "3.5.2"
  }
 },
 "nbformat": 4,
 "nbformat_minor": 1
}
